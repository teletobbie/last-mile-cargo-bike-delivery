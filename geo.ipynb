{
 "cells": [
  {
   "cell_type": "markdown",
   "metadata": {},
   "source": [
    "# Plotting the delivery areas\n",
    "Using Geopandas \n",
    "Using shape file from: https://public.opendatasoft.com/explore/dataset/georef-netherlands-postcode-pc4/table/?refine.prov_name=Groningen&refine.gem_name=Groningen&location=10,53.21082,6.61855&basemap=jawg.light "
   ]
  },
  {
   "cell_type": "code",
   "execution_count": 87,
   "metadata": {},
   "outputs": [],
   "source": [
    "import pandas as pd\n",
    "import geopandas as geopandas\n",
    "import matplotlib.pyplot as plt\n",
    "import numpy\n",
    "import folium\n",
    "from shapely.geometry import Point"
   ]
  },
  {
   "cell_type": "code",
   "execution_count": null,
   "metadata": {},
   "outputs": [],
   "source": [
    "geopandas.read_file('GEO-data/georef-netherlands-postcode-pc4.shp').head(5)"
   ]
  },
  {
   "cell_type": "code",
   "execution_count": null,
   "metadata": {},
   "outputs": [],
   "source": [
    "gdf_groningen = geopandas.read_file('GEO-data/georef-netherlands-postcode-pc4.shp')\n",
    "gdf_groningen"
   ]
  },
  {
   "cell_type": "code",
   "execution_count": 109,
   "metadata": {},
   "outputs": [],
   "source": [
    "shp_zip_codes = geopandas.read_file(\"GEO-data/georef-netherlands-postcode-pc4.shp\")[[\"pc4_code\", \"geometry\"]]\n",
    "#rename column\n",
    "shp_zip_codes.columns = [\"Postcode\", \"geometry\"]\n",
    "df_dabba = pd.read_excel(\"Dabba.xlsx\", names = [\"Klanteigenaar\", \"Aantal\", \"Adres\", \"Postcode\", \"Datum bezorgd\"], usecols=\"B,F,G,H,O\")\n",
    "# choose delivery day of 12 januari 2021\n",
    "df_dabba = df_dabba[df_dabba[\"Datum bezorgd\"] == \"12/01/2021\"] #because on this day the most packages got delivered. \n",
    "\n",
    "# change the 6 postal code to the first 4 numberecal codes\n",
    "df_dabba[\"Postcode\"] = df_dabba[\"Postcode\"].apply(lambda x:x[:4])\n",
    "\n",
    "# count the amount of unqiue postalcodes\n",
    "df_dabba['Deliveries'] = df_dabba['Postcode'].map(df_dabba['Postcode'].value_counts())"
   ]
  },
  {
   "cell_type": "code",
   "execution_count": 113,
   "metadata": {},
   "outputs": [
    {
     "name": "stderr",
     "output_type": "stream",
     "text": [
      "C:\\Users\\tobia\\AppData\\Local\\Temp\\ipykernel_10896\\2091110274.py:3: SettingWithCopyWarning: \n",
      "A value is trying to be set on a copy of a slice from a DataFrame\n",
      "\n",
      "See the caveats in the documentation: https://pandas.pydata.org/pandas-docs/stable/user_guide/indexing.html#returning-a-view-versus-a-copy\n",
      "  shp_zip_codes_sorted_dabba.drop(shp_zip_codes_sorted_dabba.index[shp_zip_codes_sorted_dabba.Postcode == 9723], inplace=True)\n",
      "c:\\Users\\tobia\\miniconda3\\envs\\lastmile\\lib\\site-packages\\pyproj\\crs\\crs.py:131: FutureWarning: '+init=<authority>:<code>' syntax is deprecated. '<authority>:<code>' is the preferred initialization method. When making the change, be mindful of axis order changes: https://pyproj4.github.io/pyproj/stable/gotchas.html#axis-order-changes-in-proj-6\n",
      "  in_crs_string = _prepare_from_proj_string(in_crs_string)\n",
      "c:\\Users\\tobia\\miniconda3\\envs\\lastmile\\lib\\site-packages\\geopandas\\geodataframe.py:1351: SettingWithCopyWarning: \n",
      "A value is trying to be set on a copy of a slice from a DataFrame.\n",
      "Try using .loc[row_indexer,col_indexer] = value instead\n",
      "\n",
      "See the caveats in the documentation: https://pandas.pydata.org/pandas-docs/stable/user_guide/indexing.html#returning-a-view-versus-a-copy\n",
      "  super().__setitem__(key, value)\n"
     ]
    }
   ],
   "source": [
    "# Filter all the postalcodes in the geoframe based on the postalcodes in the dabba dataframe\n",
    "shp_zip_codes_sorted_dabba = shp_zip_codes[shp_zip_codes[\"Postcode\"].isin(df_dabba[\"Postcode\"].unique())]\n",
    "# create area in km2 column\n",
    "shp_zip_codes_sorted_dabba[\"Area (km2)\"] = shp_zip_codes_sorted_dabba['geometry'].to_crs({'init': 'epsg:23095'}).map(lambda p: p.area / 10**6)"
   ]
  },
  {
   "cell_type": "code",
   "execution_count": null,
   "metadata": {},
   "outputs": [],
   "source": [
    "# merge dabba dataframe with the geoframe\n",
    "merge = pd.merge(df_dabba[[\"Datum bezorgd\", \"Postcode\", \"Deliveries\"]], shp_zip_codes_sorted_dabba, on=\"Postcode\").drop_duplicates()\n",
    "# calculate the route length approximation per entry\n",
    "k = 0.92\n",
    "n = merge[\"Deliveries\"]\n",
    "A = merge[\"Area (km2)\"]\n",
    "\n",
    "# Calculate and add Beardwood as new column in km\n",
    "merge[\"Beardwood approx\"] = k * numpy.sqrt((n * A))"
   ]
  },
  {
   "cell_type": "markdown",
   "metadata": {},
   "source": [
    "# Results of 12 januari 2021\n",
    "Now we have an dataframe including the Beardwood approximation per postalcode based on 12th of january 2021. We can plot the following maps.\n",
    "1. general results map based on Postalcode\n",
    "2. specific on map based on Beardwood's approximation without the D variable"
   ]
  },
  {
   "cell_type": "code",
   "execution_count": null,
   "metadata": {},
   "outputs": [],
   "source": [
    "# create a new geoframe based on the merge\n",
    "results = geopandas.GeoDataFrame(merge[[\"Postcode\", \"Deliveries\", \"Area (km2)\", \"Beardwood approx\"]], geometry=merge[\"geometry\"])\n",
    "# A CRS tells Python how those coordinates relate to places on the Earth\n",
    "results.set_crs(epsg=4326, inplace=True) \n",
    "results.explore(\n",
    "    column=\"Postcode\",\n",
    "    tooltip=['Postcode', 'Area (km2)', 'Deliveries', \"Beardwood approx\"],\n",
    "    popup=True,\n",
    "    tiles=\"CartoDB positron\", \n",
    "    cmap=\"Set1\", \n",
    "    name=\"Amount of deliveries in Groningen per postalcode area\"\n",
    ") "
   ]
  },
  {
   "cell_type": "code",
   "execution_count": null,
   "metadata": {},
   "outputs": [],
   "source": [
    "results.explore(\n",
    "    column=\"Beardwood approx\",\n",
    "    tooltip=['Postcode', 'Area (km2)', 'Deliveries', \"Beardwood approx\"],\n",
    "    popup=True,\n",
    "    tiles=\"CartoDB positron\", \n",
    "    cmap=\"OrRd\", \n",
    "    name=\"Beardwood approximation per postalcode area\"\n",
    ") "
   ]
  },
  {
   "cell_type": "markdown",
   "metadata": {},
   "source": [
    "# Influence of the depot location \n",
    "Now we have plotted the data and calculated the Beardwood approximation for each postalcode area, we want to add an other factor: depot location. Let start by adding an location marker on the current latitude and longitude position of Cycloon called depot 0."
   ]
  },
  {
   "cell_type": "code",
   "execution_count": 119,
   "metadata": {},
   "outputs": [],
   "source": [
    "depots_locations = [Point(6.598278, 53.210898), Point(6.528022935211814, 53.22563730386978), Point(6.574485373877002, 53.246475527023634), Point(6.555842080055761, 53.201872050167395)]"
   ]
  },
  {
   "cell_type": "markdown",
   "metadata": {},
   "source": [
    "## Calculate D\n",
    "Now we want to calculate the distance between the marker on the map and the different postal code areas called D. As D is the distance, we want to multiply it by 2 because you cycle from the depot to the delivery area and back. "
   ]
  },
  {
   "cell_type": "code",
   "execution_count": 125,
   "metadata": {},
   "outputs": [],
   "source": [
    "i = 0\n",
    "for depot_location in depots_locations:\n",
    "    distances = []\n",
    "    for phane in results.geometry:\n",
    "        geo_phane = geopandas.GeoSeries(phane)\n",
    "        geo_phane.set_crs(23095, inplace=True)\n",
    "        geo_point = geopandas.GeoSeries(depot_location)\n",
    "        geo_point.set_crs(23095, inplace=True) \n",
    "        d = geo_phane.distance(geo_point).values[0] * 100\n",
    "        distances.append(d)\n",
    "    distances = numpy.array(distances)\n",
    "    results[\"D{0}\".format(i)] = distances\n",
    "    results[\"T*_depot_{0}\".format(i)] = (2*distances) + results[\"Beardwood approx\"]\n",
    "    i=i+1"
   ]
  },
  {
   "cell_type": "markdown",
   "metadata": {},
   "source": [
    "## Calculate the average T* based the results with D locations \n",
    "Take the average between the T* columns "
   ]
  },
  {
   "cell_type": "code",
   "execution_count": 126,
   "metadata": {},
   "outputs": [],
   "source": [
    "results[\"mean_T*_depot_0_1\"] = results[[\"T*_depot_0\", \"T*_depot_1\"]].mean(axis=1)\n",
    "results[\"mean_T*_depot_0_1_2\"] = results[[\"T*_depot_0\", \"T*_depot_1\", \"T*_depot_2\"]].mean(axis=1)\n",
    "results[\"mean_T*_depot_0_1_2_3\"] = results[[\"T*_depot_0\", \"T*_depot_1\", \"T*_depot_2\", \"T*_depot_3\"]].mean(axis=1)\n",
    "# row_len = df_T_results.shape[1]\n",
    "# for i in range(row_len):\n",
    "#     print(\"i: {0} \\n i+1: {1}\".format(i,i+1))\n",
    "#     if i > row_len-2:\n",
    "#         break\n",
    "#     else:\n",
    "#         df_T_results[\"avg_T*_depot_{0}_{1}\".format(i,i+1)] = df_T_results[[\"T*_depot_{0}\".format(i), \"T*_depot_{0}\".format(i+1)]].mean(axis=1)"
   ]
  },
  {
   "cell_type": "code",
   "execution_count": null,
   "metadata": {},
   "outputs": [],
   "source": [
    "results.plot(kind=\"barh\", x=\"Postcode\", y=[\"mean_T*_depot_0_1\", \"mean_T*_depot_0_1_2\", \"mean_T*_depot_0_1_2_3\"], figsize=(16, 20), width=0.85) \n",
    "plt.title(\"T* mean per depot per postal code area\")"
   ]
  },
  {
   "cell_type": "code",
   "execution_count": null,
   "metadata": {},
   "outputs": [],
   "source": [
    "m = folium.Map(location=[53.21917, 6.56667], zoom_start=12, tiles=\"CartoDB positron\")\n",
    "i = 0\n",
    "for depot_location in depots_locations:\n",
    "    folium.Marker(\n",
    "        [depot_location.y, depot_location.x], \n",
    "        popup=\"Depot_{0}\".format(i)\n",
    "    ).add_to(m)\n",
    "    i = i + 1\n",
    "\n",
    "# use feature groups for multiple depot layers https://www.nagarajbhat.com/post/folium-visualization/\n",
    "\n",
    "choropleth = folium.Choropleth(\n",
    "    results, \n",
    "    data=results, \n",
    "    key_on='feature.properties.Postcode', \n",
    "    columns=[\"Postcode\", \"mean_T*_depot_0_1_2_3\"], \n",
    "    fill_color=\"OrRd\",\n",
    "    fill_opacity = 0.8,\n",
    "    line_opacity = 1,\n",
    "    line_weight=1,\n",
    "    legend_name = \"mean T* per postalcode area based on depot 0, 1, 2 & 3 on 12 january 2021\",\n",
    "    name=\"Average T* of all depots per Postalcode area\").add_to(m)\n",
    "\n",
    "choropleth.geojson.add_child(\n",
    "    folium.features.GeoJsonTooltip(fields=['Postcode', 'Area (km2)', 'Deliveries', \"T*_depot_0\", \"T*_depot_1\", \"T*_depot_2\", \"T*_depot_3\", \"mean_T*_depot_0_1_2_3\"], labels=True)\n",
    ")\n",
    "\n",
    "folium.LayerControl().add_to(m)\n",
    "m"
   ]
  }
 ],
 "metadata": {
  "interpreter": {
   "hash": "8ee91b7e8a4c290a9eda45d7e695335377bd39dd7be23aaeef8943b431de685e"
  },
  "kernelspec": {
   "display_name": "Python 3.10.4 ('lastmile')",
   "language": "python",
   "name": "python3"
  },
  "language_info": {
   "codemirror_mode": {
    "name": "ipython",
    "version": 3
   },
   "file_extension": ".py",
   "mimetype": "text/x-python",
   "name": "python",
   "nbconvert_exporter": "python",
   "pygments_lexer": "ipython3",
   "version": "3.10.4"
  },
  "orig_nbformat": 4
 },
 "nbformat": 4,
 "nbformat_minor": 2
}
