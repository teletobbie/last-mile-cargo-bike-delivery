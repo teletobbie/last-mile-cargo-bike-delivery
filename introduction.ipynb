{
 "cells": [
  {
   "cell_type": "markdown",
   "metadata": {},
   "source": [
    "#Introduction into Last mile cargo bike delivery research project"
   ]
  },
  {
   "cell_type": "markdown",
   "metadata": {},
   "source": [
    "Data science project using different dataset from a cargo bike company in order to determine the influence that the depot location have on the BHH continious approximation tour length. The datasets are based on the three sources:\n",
    "\n",
    "1. GPS-tracker: GPS data is recorded on *21* cargo bike routes in various areas in the city of Groningen. The routes are located in the GPS folder within this project. \n",
    "2. Manually recorded data at the depot: ontains general information on *569* cargo bike routes. Every route data point contains the date, postal code area, type of cargo bike used (and if electrically assisted), number of parcels (categorized as small/medium/large), volume of parcels and weather conditions.\n",
    "3. Company information system contains information on all the parcels. Every parcel data point contains the date, delivery address and link to which specific route the parcel belonged\n",
    "\n",
    "This sheet will introduce the different datasets and their relations using Python data analysis libarty Pandas. \n"
   ]
  },
  {
   "cell_type": "code",
   "execution_count": 1,
   "metadata": {},
   "outputs": [],
   "source": [
    "#first import pandas libarty\n",
    "import pandas as pd"
   ]
  },
  {
   "cell_type": "markdown",
   "metadata": {},
   "source": [
    "##GPS data"
   ]
  },
  {
   "cell_type": "code",
   "execution_count": null,
   "metadata": {},
   "outputs": [],
   "source": []
  }
 ],
 "metadata": {
  "interpreter": {
   "hash": "04a1445d9e844144dcab28b9ba94cc38948a6fade79f55b2567646d05be47c51"
  },
  "kernelspec": {
   "display_name": "Python 3.9.7 ('base')",
   "language": "python",
   "name": "python3"
  },
  "language_info": {
   "codemirror_mode": {
    "name": "ipython",
    "version": 3
   },
   "file_extension": ".py",
   "mimetype": "text/x-python",
   "name": "python",
   "nbconvert_exporter": "python",
   "pygments_lexer": "ipython3",
   "version": "3.10.4"
  },
  "orig_nbformat": 4
 },
 "nbformat": 4,
 "nbformat_minor": 2
}
