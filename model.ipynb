{
 "cells": [
  {
   "cell_type": "markdown",
   "metadata": {},
   "source": [
    "# Plotting the delivery areas\n",
    "Using Geopandas \n",
    "Using shape file from: https://public.opendatasoft.com/explore/dataset/georef-netherlands-postcode-pc4/table/?refine.prov_name=Groningen&refine.gem_name=Groningen&location=10,53.21082,6.61855&basemap=jawg.light "
   ]
  },
  {
   "cell_type": "code",
   "execution_count": 1,
   "metadata": {},
   "outputs": [],
   "source": [
    "import pandas as pd\n",
    "import geopandas as geopandas\n",
    "import matplotlib.pyplot as plt\n",
    "import numpy\n",
    "import folium\n",
    "from shapely.geometry import Point"
   ]
  },
  {
   "cell_type": "code",
   "execution_count": 2,
   "metadata": {},
   "outputs": [],
   "source": [
    "shp_zip_codes = geopandas.read_file(\"GEO-data/georef-netherlands-postcode-pc4.shp\")[[\"pc4_code\", \"geometry\"]]\n",
    "#rename column\n",
    "shp_zip_codes.columns = [\"Postcode\", \"geometry\"]\n",
    "df_dabba = pd.read_excel(\"Dabba.xlsx\", names = [\"Klanteigenaar\", \"Aantal\", \"Adres\", \"Postcode\", \"Datum bezorgd\"], usecols=\"B,F,G,H,O\") \n",
    "\n",
    "# change the 6 postal code to the first 4 numberecal codes\n",
    "df_dabba[\"Postcode\"] = df_dabba[\"Postcode\"].apply(lambda x:x[:4])\n",
    "\n",
    "# count the amount of unqiue postalcodes\n",
    "df_dabba['Deliveries'] = df_dabba['Postcode'].map(df_dabba['Postcode'].value_counts())"
   ]
  },
  {
   "cell_type": "code",
   "execution_count": 3,
   "metadata": {},
   "outputs": [
    {
     "name": "stderr",
     "output_type": "stream",
     "text": [
      "c:\\Users\\tobia\\miniconda3\\envs\\lastmile\\lib\\site-packages\\pyproj\\crs\\crs.py:131: FutureWarning: '+init=<authority>:<code>' syntax is deprecated. '<authority>:<code>' is the preferred initialization method. When making the change, be mindful of axis order changes: https://pyproj4.github.io/pyproj/stable/gotchas.html#axis-order-changes-in-proj-6\n",
      "  in_crs_string = _prepare_from_proj_string(in_crs_string)\n",
      "c:\\Users\\tobia\\miniconda3\\envs\\lastmile\\lib\\site-packages\\geopandas\\geodataframe.py:1351: SettingWithCopyWarning: \n",
      "A value is trying to be set on a copy of a slice from a DataFrame.\n",
      "Try using .loc[row_indexer,col_indexer] = value instead\n",
      "\n",
      "See the caveats in the documentation: https://pandas.pydata.org/pandas-docs/stable/user_guide/indexing.html#returning-a-view-versus-a-copy\n",
      "  super().__setitem__(key, value)\n"
     ]
    }
   ],
   "source": [
    "# Filter all the postalcodes in the geoframe based on the postalcodes in the dabba dataframe\n",
    "shp_zip_codes_sorted_dabba = shp_zip_codes[shp_zip_codes[\"Postcode\"].isin(df_dabba[\"Postcode\"].unique())]\n",
    "# create area in km2 column\n",
    "shp_zip_codes_sorted_dabba[\"Area (km2)\"] = shp_zip_codes_sorted_dabba['geometry'].to_crs({'init': 'epsg:23095'}).map(lambda p: p.area / 10**6)"
   ]
  },
  {
   "cell_type": "code",
   "execution_count": null,
   "metadata": {},
   "outputs": [],
   "source": [
    "# merge dabba dataframe with the geoframe\n",
    "merge = pd.merge(df_dabba[[\"Datum bezorgd\", \"Postcode\", \"Deliveries\"]], shp_zip_codes_sorted_dabba, on=\"Postcode\").drop_duplicates()\n",
    "\n",
    "# #get the number of operational workdays \n",
    "working_days = len(merge[\"Datum bezorgd\"].unique())\n",
    "# calculate the route length approximation per entry\n",
    "k = 0.92\n",
    "n = merge[\"Deliveries\"] / working_days # take the total of all deliveries within and postalcode area and devided it by the amount of workingdays\n",
    "A = merge[\"Area (km2)\"]\n",
    "\n",
    "# Calculate and add Beardwood as new column in km\n",
    "merge[\"Beardwood approx\"] = k * numpy.sqrt((n * A))\n",
    "# merge[[\"Postcode\", \"Area (km2)\", \"Deliveries\", \"Beardwood approx\"]].sort_values(by=\"Postcode\").to_excel(\n",
    "#     \"Postcode_area_deliveries.xlsx\", header=[\"Postcode gebied (p)\", \"A\", \"N\", \"Beardwood zonder depots\"]\n",
    "#     )"
   ]
  },
  {
   "cell_type": "markdown",
   "metadata": {},
   "source": [
    "# Results \n",
    "Now we have an dataframe including the Beardwood approximation per postalcode based on Dabba information system. We can plot the following maps.\n",
    "1. general results map based on Postalcode\n",
    "2. specific on map based on Beardwood's approximation without the D variable"
   ]
  },
  {
   "cell_type": "code",
   "execution_count": 10,
   "metadata": {},
   "outputs": [
    {
     "data": {
      "text/html": [
       "<div>\n",
       "<style scoped>\n",
       "    .dataframe tbody tr th:only-of-type {\n",
       "        vertical-align: middle;\n",
       "    }\n",
       "\n",
       "    .dataframe tbody tr th {\n",
       "        vertical-align: top;\n",
       "    }\n",
       "\n",
       "    .dataframe thead th {\n",
       "        text-align: right;\n",
       "    }\n",
       "</style>\n",
       "<table border=\"1\" class=\"dataframe\">\n",
       "  <thead>\n",
       "    <tr style=\"text-align: right;\">\n",
       "      <th></th>\n",
       "      <th>Postcode</th>\n",
       "      <th>Deliveries</th>\n",
       "      <th>Area (km2)</th>\n",
       "      <th>Beardwood approx</th>\n",
       "      <th>geometry</th>\n",
       "    </tr>\n",
       "  </thead>\n",
       "  <tbody>\n",
       "    <tr>\n",
       "      <th>0</th>\n",
       "      <td>9726</td>\n",
       "      <td>481</td>\n",
       "      <td>0.601153</td>\n",
       "      <td>2.258043</td>\n",
       "      <td>POLYGON ((6.55042 53.21567, 6.55138 53.21556, ...</td>\n",
       "    </tr>\n",
       "    <tr>\n",
       "      <th>3</th>\n",
       "      <td>9726</td>\n",
       "      <td>481</td>\n",
       "      <td>0.601153</td>\n",
       "      <td>2.258043</td>\n",
       "      <td>POLYGON ((6.55042 53.21567, 6.55138 53.21556, ...</td>\n",
       "    </tr>\n",
       "    <tr>\n",
       "      <th>4</th>\n",
       "      <td>9726</td>\n",
       "      <td>481</td>\n",
       "      <td>0.601153</td>\n",
       "      <td>2.258043</td>\n",
       "      <td>POLYGON ((6.55042 53.21567, 6.55138 53.21556, ...</td>\n",
       "    </tr>\n",
       "    <tr>\n",
       "      <th>15</th>\n",
       "      <td>9726</td>\n",
       "      <td>481</td>\n",
       "      <td>0.601153</td>\n",
       "      <td>2.258043</td>\n",
       "      <td>POLYGON ((6.55042 53.21567, 6.55138 53.21556, ...</td>\n",
       "    </tr>\n",
       "    <tr>\n",
       "      <th>22</th>\n",
       "      <td>9726</td>\n",
       "      <td>481</td>\n",
       "      <td>0.601153</td>\n",
       "      <td>2.258043</td>\n",
       "      <td>POLYGON ((6.55042 53.21567, 6.55138 53.21556, ...</td>\n",
       "    </tr>\n",
       "    <tr>\n",
       "      <th>...</th>\n",
       "      <td>...</td>\n",
       "      <td>...</td>\n",
       "      <td>...</td>\n",
       "      <td>...</td>\n",
       "      <td>...</td>\n",
       "    </tr>\n",
       "    <tr>\n",
       "      <th>19804</th>\n",
       "      <td>9747</td>\n",
       "      <td>40</td>\n",
       "      <td>2.646747</td>\n",
       "      <td>1.366323</td>\n",
       "      <td>MULTIPOLYGON (((6.53141 53.23458, 6.53134 53.2...</td>\n",
       "    </tr>\n",
       "    <tr>\n",
       "      <th>19805</th>\n",
       "      <td>9747</td>\n",
       "      <td>40</td>\n",
       "      <td>2.646747</td>\n",
       "      <td>1.366323</td>\n",
       "      <td>MULTIPOLYGON (((6.53141 53.23458, 6.53134 53.2...</td>\n",
       "    </tr>\n",
       "    <tr>\n",
       "      <th>19808</th>\n",
       "      <td>9747</td>\n",
       "      <td>40</td>\n",
       "      <td>2.646747</td>\n",
       "      <td>1.366323</td>\n",
       "      <td>MULTIPOLYGON (((6.53141 53.23458, 6.53134 53.2...</td>\n",
       "    </tr>\n",
       "    <tr>\n",
       "      <th>19809</th>\n",
       "      <td>9747</td>\n",
       "      <td>40</td>\n",
       "      <td>2.646747</td>\n",
       "      <td>1.366323</td>\n",
       "      <td>MULTIPOLYGON (((6.53141 53.23458, 6.53134 53.2...</td>\n",
       "    </tr>\n",
       "    <tr>\n",
       "      <th>19810</th>\n",
       "      <td>9747</td>\n",
       "      <td>40</td>\n",
       "      <td>2.646747</td>\n",
       "      <td>1.366323</td>\n",
       "      <td>MULTIPOLYGON (((6.53141 53.23458, 6.53134 53.2...</td>\n",
       "    </tr>\n",
       "  </tbody>\n",
       "</table>\n",
       "<p>1237 rows × 5 columns</p>\n",
       "</div>"
      ],
      "text/plain": [
       "      Postcode  Deliveries  Area (km2)  Beardwood approx  \\\n",
       "0         9726         481    0.601153          2.258043   \n",
       "3         9726         481    0.601153          2.258043   \n",
       "4         9726         481    0.601153          2.258043   \n",
       "15        9726         481    0.601153          2.258043   \n",
       "22        9726         481    0.601153          2.258043   \n",
       "...        ...         ...         ...               ...   \n",
       "19804     9747          40    2.646747          1.366323   \n",
       "19805     9747          40    2.646747          1.366323   \n",
       "19808     9747          40    2.646747          1.366323   \n",
       "19809     9747          40    2.646747          1.366323   \n",
       "19810     9747          40    2.646747          1.366323   \n",
       "\n",
       "                                                geometry  \n",
       "0      POLYGON ((6.55042 53.21567, 6.55138 53.21556, ...  \n",
       "3      POLYGON ((6.55042 53.21567, 6.55138 53.21556, ...  \n",
       "4      POLYGON ((6.55042 53.21567, 6.55138 53.21556, ...  \n",
       "15     POLYGON ((6.55042 53.21567, 6.55138 53.21556, ...  \n",
       "22     POLYGON ((6.55042 53.21567, 6.55138 53.21556, ...  \n",
       "...                                                  ...  \n",
       "19804  MULTIPOLYGON (((6.53141 53.23458, 6.53134 53.2...  \n",
       "19805  MULTIPOLYGON (((6.53141 53.23458, 6.53134 53.2...  \n",
       "19808  MULTIPOLYGON (((6.53141 53.23458, 6.53134 53.2...  \n",
       "19809  MULTIPOLYGON (((6.53141 53.23458, 6.53134 53.2...  \n",
       "19810  MULTIPOLYGON (((6.53141 53.23458, 6.53134 53.2...  \n",
       "\n",
       "[1237 rows x 5 columns]"
      ]
     },
     "execution_count": 10,
     "metadata": {},
     "output_type": "execute_result"
    }
   ],
   "source": [
    "# create a new geoframe based on the merge\n",
    "results = geopandas.GeoDataFrame(merge[[\"Postcode\", \"Deliveries\", \"Area (km2)\", \"Beardwood approx\"]], geometry=merge[\"geometry\"])\n",
    "# A CRS tells Python how those coordinates relate to places on the Earth\n",
    "results.set_crs(epsg=4326, inplace=True)"
   ]
  },
  {
   "cell_type": "code",
   "execution_count": null,
   "metadata": {},
   "outputs": [],
   "source": [
    "results.explore(\n",
    "    column=\"Postcode\",\n",
    "    tooltip=['Postcode', 'Area (km2)', 'Deliveries', \"Beardwood approx\"],\n",
    "    popup=True,\n",
    "    tiles=\"CartoDB positron\", \n",
    "    cmap=\"Set1\", \n",
    "    name=\"Amount of deliveries in Groningen per postalcode area\"\n",
    ") "
   ]
  },
  {
   "cell_type": "code",
   "execution_count": null,
   "metadata": {},
   "outputs": [],
   "source": [
    "results.explore(\n",
    "    column=\"Beardwood approx\",\n",
    "    tooltip=['Postcode', 'Area (km2)', 'Deliveries', \"Beardwood approx\"],\n",
    "    popup=True,\n",
    "    tiles=\"CartoDB positron\", \n",
    "    cmap=\"OrRd\", \n",
    "    name=\"Beardwood approximation per postalcode area\"\n",
    ") "
   ]
  },
  {
   "cell_type": "markdown",
   "metadata": {},
   "source": [
    "# Influence of the depot location \n",
    "Now we have plotted the data and calculated the Beardwood approximation for each postalcode area, we want to add an other factor: depot location. Let start by adding an location marker on the current latitude and longitude position of Cycloon called depot 0."
   ]
  },
  {
   "cell_type": "code",
   "execution_count": 11,
   "metadata": {},
   "outputs": [],
   "source": [
    "lat_long_groningen = [53.21917, 6.56667] # starting location of the folium map\n",
    "depots_locations = [Point(6.598278, 53.210898), Point(6.528022935211814, 53.22563730386978), Point(6.574485373877002, 53.246475527023634), Point(6.555842080055761, 53.201872050167395)]"
   ]
  },
  {
   "cell_type": "markdown",
   "metadata": {},
   "source": [
    "## Calculate D\n",
    "Now we want to calculate the distance between the marker on the map and the different postal code areas called D. As D is the distance, we want to multiply it by 2 because you cycle from the depot to the delivery area and back. "
   ]
  },
  {
   "cell_type": "code",
   "execution_count": 12,
   "metadata": {},
   "outputs": [],
   "source": [
    "i = 0\n",
    "for depot_location in depots_locations:\n",
    "    distances = []\n",
    "    for phane in results.geometry:\n",
    "        geo_phane = geopandas.GeoSeries(phane)\n",
    "        geo_phane.set_crs(23095, inplace=True)\n",
    "        geo_point = geopandas.GeoSeries(depot_location)\n",
    "        geo_point.set_crs(23095, inplace=True) \n",
    "        d = geo_phane.distance(geo_point).values[0] * 100\n",
    "        distances.append(d)\n",
    "    distances = numpy.array(distances) # calculate D\n",
    "    # results[\"D_depot_{0}\".format(i)] = distances\n",
    "    results[\"T*_depot_{0}\".format(i)] = (2*distances) + results[\"Beardwood approx\"]\n",
    "    i=i+1"
   ]
  },
  {
   "cell_type": "markdown",
   "metadata": {},
   "source": [
    "## Calculate the influence of T* based the results with D locations \n",
    "Take the min between the T* columns and sum them.  "
   ]
  },
  {
   "cell_type": "code",
   "execution_count": 14,
   "metadata": {},
   "outputs": [],
   "source": [
    "results[\"2_depots\"] = results[[\"T*_depot_0\", \"T*_depot_1\"]].min(axis=1)\n",
    "results[\"3_depots\"] = results[[\"T*_depot_0\", \"T*_depot_1\", \"T*_depot_2\"]].min(axis=1)\n",
    "results[\"4_depots\"] = results[[\"T*_depot_0\", \"T*_depot_1\", \"T*_depot_2\", \"T*_depot_3\"]].min(axis=1)"
   ]
  },
  {
   "cell_type": "code",
   "execution_count": 15,
   "metadata": {},
   "outputs": [
    {
     "data": {
      "image/png": "[encoded data removed]",
      "text/plain": [
       "<Figure size 432x288 with 1 Axes>"
      ]
     },
     "metadata": {
      "needs_background": "light"
     },
     "output_type": "display_data"
    }
   ],
   "source": [
    "depot_1 = sum(results[\"T*_depot_0\"]) / working_days\n",
    "depot_2 = sum(results[\"2_depots\"]) / working_days \n",
    "depot_3 = sum(results[\"3_depots\"]) / working_days\n",
    "depot_4 = sum(results[\"4_depots\"]) / working_days\n",
    "fig = plt.figure()\n",
    "ax = fig.add_axes([0,0,1,1])\n",
    "depots = [\"1 depot\", \"2 depots\", \"3 depots\", \"4 depots\"]\n",
    "sum_route_length_per_depot = [depot_1, depot_2, depot_3, depot_4]\n",
    "ax.bar(depots,sum_route_length_per_depot)\n",
    "\n",
    "plt.title(\"Influence of multiple depot locations\")\n",
    "plt.show()\n",
    "\n",
    "# results[[]].plot(kind=\"bar\", figsize=(16, 20), width=0.85) \n"
   ]
  },
  {
   "cell_type": "markdown",
   "metadata": {},
   "source": [
    "## Compare new situation with the current (old) situation in precentage (%)\n",
    "Compare the old situation of 1 depot with the new situation of multiple depots (2, 3, and 4) by using the following formula:\n",
    "(new - old) / old * 100 "
   ]
  },
  {
   "cell_type": "code",
   "execution_count": 16,
   "metadata": {},
   "outputs": [
    {
     "data": {
      "image/png": "[encoded data removed]",
      "text/plain": [
       "<Figure size 432x288 with 1 Axes>"
      ]
     },
     "metadata": {
      "needs_background": "light"
     },
     "output_type": "display_data"
    }
   ],
   "source": [
    "depot_1_to_2 = (depot_2 - depot_1) / depot_1 * 100\n",
    "depot_2_to_3 = (depot_3 - depot_2) / depot_2 * 100\n",
    "depot_2_to_3 = (depot_4 - depot_3) / depot_3 * 100\n",
    "\n",
    "fig = plt.figure()\n",
    "ax = fig.add_axes([0,0,1,1])\n",
    "depots = [\"2 depots\", \"3 depots\", \"4 depots\"]\n",
    "new_old = [depot_1_to_2, depot_2_to_3, depot_2_to_3]\n",
    "ax.bar(depots, new_old)\n",
    "\n",
    "plt.title(\"Compare depots\")\n",
    "plt.show()"
   ]
  },
  {
   "cell_type": "markdown",
   "metadata": {},
   "source": [
    "# Influence on the tour length of depots\n",
    "Now we visualize the results using folium plotting. "
   ]
  },
  {
   "cell_type": "code",
   "execution_count": 18,
   "metadata": {},
   "outputs": [],
   "source": [
    "# create function for creating a map \n",
    "def create_map(map_start_location, depot_locations, results, depot_amount):\n",
    "    # having depot 1\n",
    "    m = folium.Map(location=map_start_location, zoom_start=12, tiles=\"CartoDB positron\")\n",
    "    i = 0\n",
    "    for depot_location in depot_locations:\n",
    "        if i > depot_amount:\n",
    "            break\n",
    "        folium.Marker(\n",
    "            [depot_location.y, depot_location.x], \n",
    "            popup=\"Depot_{0}\".format(i)\n",
    "        ).add_to(m)\n",
    "        i = i + 1\n",
    "\n",
    "    depot_column_name = \"\"\n",
    "    if depot_amount == 0:  \n",
    "        depot_column_name = \"T*_depot_{0}\".format(depot_amount) \n",
    "    else: \n",
    "        depot_column_name = \"{0}_depots\".format(depot_amount+1)\n",
    "    # use feature groups for multiple depot layers https://www.nagarajbhat.com/post/folium-visualization/\n",
    "\n",
    "    choropleth = folium.Choropleth(\n",
    "        results, \n",
    "        data=results, \n",
    "        key_on='feature.properties.Postcode', \n",
    "        columns=[\"Postcode\", depot_column_name], \n",
    "        fill_color=\"OrRd\",\n",
    "        fill_opacity = 0.8,\n",
    "        line_opacity = 1,\n",
    "        line_weight=1,\n",
    "        legend_name = \"T* per postalcode area based on depot {0}\".format(depot_amount+1),\n",
    "        name=\"T* of {0} depot per Postalcode area\".format(depot_amount+1)).add_to(m)\n",
    "\n",
    "    choropleth.geojson.add_child(\n",
    "        folium.features.GeoJsonTooltip(fields=['Postcode', depot_column_name], labels=True)\n",
    "    )\n",
    "\n",
    "    folium.LayerControl().add_to(m)\n",
    "    # m.save('map.html')\n",
    "    return m\n",
    "\n",
    "# create_map(lat_long_groningen, depots_locations, results, 0)"
   ]
  },
  {
   "cell_type": "markdown",
   "metadata": {},
   "source": [
    "## influence on the tour length of 1 depot\n",
    "At depot 1 at cycloon Groningen"
   ]
  },
  {
   "cell_type": "code",
   "execution_count": null,
   "metadata": {},
   "outputs": [],
   "source": [
    "create_map(lat_long_groningen, depots_locations, results, 0)"
   ]
  },
  {
   "cell_type": "markdown",
   "metadata": {},
   "source": [
    "## influence on the tour length of 2 depots\n",
    "Depot 1 and 2 at cycloon Groningen and Vinkhuizen"
   ]
  },
  {
   "cell_type": "code",
   "execution_count": null,
   "metadata": {},
   "outputs": [],
   "source": [
    "create_map(lat_long_groningen, depots_locations, results, 1)"
   ]
  },
  {
   "cell_type": "markdown",
   "metadata": {},
   "source": [
    "## Influence of three depots\n",
    "Depot 1, 2 and 3 at cycloon Groningen, Vinkhuizen and De Hunze"
   ]
  },
  {
   "cell_type": "code",
   "execution_count": null,
   "metadata": {},
   "outputs": [],
   "source": [
    "create_map(lat_long_groningen, depots_locations, results, 2)"
   ]
  },
  {
   "cell_type": "markdown",
   "metadata": {},
   "source": [
    "## Influence of three depots\n",
    "Depot 1, 2, 3 and 4 at cycloon Groningen, Vinkhuizen, De Hunze and lastly Zuidwest"
   ]
  },
  {
   "cell_type": "code",
   "execution_count": null,
   "metadata": {},
   "outputs": [],
   "source": [
    "create_map(lat_long_groningen, depots_locations, results, 3)"
   ]
  }
 ],
 "metadata": {
  "interpreter": {
   "hash": "8ee91b7e8a4c290a9eda45d7e695335377bd39dd7be23aaeef8943b431de685e"
  },
  "kernelspec": {
   "display_name": "Python 3.10.4 ('lastmile')",
   "language": "python",
   "name": "python3"
  },
  "language_info": {
   "codemirror_mode": {
    "name": "ipython",
    "version": 3
   },
   "file_extension": ".py",
   "mimetype": "text/x-python",
   "name": "python",
   "nbconvert_exporter": "python",
   "pygments_lexer": "ipython3",
   "version": "3.10.4"
  },
  "orig_nbformat": 4
 },
 "nbformat": 4,
 "nbformat_minor": 2
}
