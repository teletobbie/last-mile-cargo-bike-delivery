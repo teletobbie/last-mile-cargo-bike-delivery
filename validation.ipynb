{
 "cells": [
  {
   "cell_type": "markdown",
   "metadata": {},
   "source": [
    "# Validation of the model\n",
    "In this file we will validate the model by comparing the results of Groningen with the results of another city in the Netherlands. In this file we will use two shapefiles one of Groningen and one of another city \n"
   ]
  },
  {
   "cell_type": "code",
   "execution_count": 1,
   "metadata": {},
   "outputs": [],
   "source": [
    "import pandas as pd\n",
    "import geopandas as geopandas\n",
    "import matplotlib.pyplot as plt\n",
    "import numpy\n",
    "import folium\n",
    "from shapely.geometry import Point"
   ]
  },
  {
   "cell_type": "code",
   "execution_count": 17,
   "metadata": {},
   "outputs": [],
   "source": [
    "shp_zip_codes = geopandas.read_file(\"GEO-data/georef-amsterdam-postcode-pc4.shp\")[[\"pc4_code\", \"geometry\"]]\n",
    "shp_zip_codes.columns = [\"Postcode\", \"geometry\"]\n",
    "# read data of the whole country\n",
    "df_dabba_country = pd.read_excel(\"Dabba_Landelijk.xlsx\", names=[\"Postcode\", \"DeliveryDate\"], usecols=\"H,J\")\n",
    "df_dabba_country[\"Postcode\"] = df_dabba_country[\"Postcode\"].astype(str).apply(lambda x:x[:4]) # cut the last two characters\n",
    "df_dabba_country['Deliveries'] = df_dabba_country['Postcode'].map(df_dabba_country['Postcode'].value_counts()) # calculate the deliveries per postcode \n"
   ]
  },
  {
   "cell_type": "code",
   "execution_count": 18,
   "metadata": {},
   "outputs": [
    {
     "name": "stderr",
     "output_type": "stream",
     "text": [
      "c:\\Users\\tobia\\miniconda3\\envs\\lastmile\\lib\\site-packages\\pyproj\\crs\\crs.py:131: FutureWarning: '+init=<authority>:<code>' syntax is deprecated. '<authority>:<code>' is the preferred initialization method. When making the change, be mindful of axis order changes: https://pyproj4.github.io/pyproj/stable/gotchas.html#axis-order-changes-in-proj-6\n",
      "  in_crs_string = _prepare_from_proj_string(in_crs_string)\n",
      "c:\\Users\\tobia\\miniconda3\\envs\\lastmile\\lib\\site-packages\\geopandas\\geodataframe.py:1351: SettingWithCopyWarning: \n",
      "A value is trying to be set on a copy of a slice from a DataFrame.\n",
      "Try using .loc[row_indexer,col_indexer] = value instead\n",
      "\n",
      "See the caveats in the documentation: https://pandas.pydata.org/pandas-docs/stable/user_guide/indexing.html#returning-a-view-versus-a-copy\n",
      "  super().__setitem__(key, value)\n"
     ]
    }
   ],
   "source": [
    "# Filter all the postalcodes in the geoframe based on the postalcodes in the dabba dataframe\n",
    "shp_zip_codes_amsterdam = shp_zip_codes[shp_zip_codes[\"Postcode\"].isin(df_dabba_country[\"Postcode\"].unique())]\n",
    "# create area in km2 column\n",
    "shp_zip_codes_amsterdam[\"Area (km2)\"] = shp_zip_codes_amsterdam['geometry'].to_crs({'init': 'epsg:23095'}).map(lambda p: p.area / 10**6)"
   ]
  },
  {
   "cell_type": "code",
   "execution_count": 19,
   "metadata": {},
   "outputs": [],
   "source": [
    "# merge dabba dataframe with the geoframe\n",
    "df_amsterdam = pd.merge(df_dabba_country[[\"DeliveryDate\", \"Postcode\", \"Deliveries\"]], shp_zip_codes_amsterdam, on=\"Postcode\").drop_duplicates()\n",
    "\n",
    "# #get the number of operational workdays \n",
    "working_days = len(df_amsterdam[\"DeliveryDate\"].unique())\n",
    "# calculate the route length approximation per entry\n",
    "k = 0.92\n",
    "n = df_amsterdam[\"Deliveries\"] / working_days # take the total of all deliveries within and postalcode area and devided it by the amount of workingdays\n",
    "A = df_amsterdam[\"Area (km2)\"]\n",
    "\n",
    "# Calculate and add Beardwood as new column in km\n",
    "df_amsterdam[\"Beardwood approx\"] = k * numpy.sqrt((n * A))\n",
    "df_amsterdam"
   ]
  },
  {
   "cell_type": "markdown",
   "metadata": {},
   "source": [
    "## Validation results\n",
    "Get the results of the city of Amsterdam and check if the model creates the same behaviour as in Groningen. Lets start with Beardwood's approximation for Amsterdam city in the Netherlands. "
   ]
  },
  {
   "cell_type": "code",
   "execution_count": null,
   "metadata": {},
   "outputs": [],
   "source": [
    "results_amsterdam = geopandas.GeoDataFrame(df_amsterdam[[\"Postcode\", \"Deliveries\", \"Area (km2)\", \"Beardwood approx\"]], geometry=df_amsterdam[\"geometry\"])\n",
    "results_amsterdam.set_crs(epsg=4326, inplace=True)"
   ]
  },
  {
   "cell_type": "code",
   "execution_count": null,
   "metadata": {},
   "outputs": [],
   "source": [
    "results_amsterdam.explore(\n",
    "    column=\"Beardwood approx\",\n",
    "    tooltip=['Postcode', 'Area (km2)', 'Deliveries', \"Beardwood approx\"],\n",
    "    popup=True,\n",
    "    tiles=\"CartoDB positron\", \n",
    "    cmap=\"OrRd\", \n",
    "    name=\"Beardwood approximation per postalcode area Amsterdam\"\n",
    ") "
   ]
  },
  {
   "cell_type": "markdown",
   "metadata": {},
   "source": [
    "### Influence of depot locations in Amsterdam\n",
    "Add depot locations and check the influence of those depots for the city of Amsterdam. "
   ]
  },
  {
   "cell_type": "code",
   "execution_count": 53,
   "metadata": {},
   "outputs": [],
   "source": [
    "lat_long_amsterdam = [52.37003267561365, 4.898141673326259] # starting location of the folium map\n",
    "# 52.335365, 4.931324 location Cycloon fiets koerier Amsterdam\n",
    "# Kinkerstraat Amsterdam: 52.365272216877884, 4.864477134327737\n",
    "depots_locations = [Point(4.931324, 52.335365), Point(4.864477134327737, 52.365272216877884)]"
   ]
  },
  {
   "cell_type": "code",
   "execution_count": 54,
   "metadata": {},
   "outputs": [],
   "source": [
    "i = 0\n",
    "for depot_location in depots_locations:\n",
    "    distances = []\n",
    "    for phane in results_amsterdam.geometry:\n",
    "        geo_phane = geopandas.GeoSeries(phane)\n",
    "        geo_phane.set_crs(23095, inplace=True)\n",
    "        geo_point = geopandas.GeoSeries(depot_location)\n",
    "        geo_point.set_crs(23095, inplace=True) \n",
    "        d = geo_phane.distance(geo_point).values[0] * 100\n",
    "        distances.append(d)\n",
    "    distances = numpy.array(distances) # calculate D\n",
    "    # results[\"D_depot_{0}\".format(i)] = distances\n",
    "    results_amsterdam[\"T*_depot_{0}\".format(i)] = (2*distances) + results_amsterdam[\"Beardwood approx\"]\n",
    "    i=i+1"
   ]
  },
  {
   "cell_type": "code",
   "execution_count": 55,
   "metadata": {},
   "outputs": [
    {
     "data": {
      "image/png": "[encoded data removed]",
      "text/plain": [
       "<Figure size 432x288 with 1 Axes>"
      ]
     },
     "metadata": {
      "needs_background": "light"
     },
     "output_type": "display_data"
    }
   ],
   "source": [
    "results_amsterdam[\"2_depots\"] = results_amsterdam[[\"T*_depot_0\", \"T*_depot_1\"]].min(axis=1)\n",
    "# results[\"3_depots\"] = results[[\"T*_depot_0\", \"T*_depot_1\", \"T*_depot_2\"]].min(axis=1)\n",
    "# results[\"4_depots\"] = results[[\"T*_depot_0\", \"T*_depot_1\", \"T*_depot_2\", \"T*_depot_3\"]].min(axis=1)\n",
    "\n",
    "depot_1 = sum(results_amsterdam[\"T*_depot_0\"]) / working_days\n",
    "depot_2 = sum(results_amsterdam[\"2_depots\"]) / working_days \n",
    "# depot_3 = sum(results[\"3_depots\"]) / working_days\n",
    "# depot_4 = sum(results[\"4_depots\"]) / working_days\n",
    "fig = plt.figure()\n",
    "ax = fig.add_axes([0,0,1,1])\n",
    "depots = [\"1 depot\", \"2 depots\"]\n",
    "sum_route_length_per_depot = [depot_1, depot_2]\n",
    "# depots = [\"1 depot\", \"2 depots\", \"3 depots\", \"4 depots\"]\n",
    "# sum_route_length_per_depot = [depot_1, depot_2, depot_3, depot_4]\n",
    "ax.bar(depots,sum_route_length_per_depot)\n",
    "\n",
    "plt.title(\"Influence of multiple depot locations total cycling km's\")\n",
    "plt.show()"
   ]
  },
  {
   "cell_type": "code",
   "execution_count": 62,
   "metadata": {},
   "outputs": [
    {
     "data": {
      "text/html": [
       "<div>\n",
       "<style scoped>\n",
       "    .dataframe tbody tr th:only-of-type {\n",
       "        vertical-align: middle;\n",
       "    }\n",
       "\n",
       "    .dataframe tbody tr th {\n",
       "        vertical-align: top;\n",
       "    }\n",
       "\n",
       "    .dataframe thead th {\n",
       "        text-align: right;\n",
       "    }\n",
       "</style>\n",
       "<table border=\"1\" class=\"dataframe\">\n",
       "  <thead>\n",
       "    <tr style=\"text-align: right;\">\n",
       "      <th></th>\n",
       "      <th>Postcode</th>\n",
       "      <th>T*_depot_0</th>\n",
       "      <th>2_depots</th>\n",
       "    </tr>\n",
       "  </thead>\n",
       "  <tbody>\n",
       "    <tr>\n",
       "      <th>0</th>\n",
       "      <td>1072</td>\n",
       "      <td>12.829616</td>\n",
       "      <td>9.941487</td>\n",
       "    </tr>\n",
       "    <tr>\n",
       "      <th>38</th>\n",
       "      <td>1072</td>\n",
       "      <td>12.829616</td>\n",
       "      <td>9.941487</td>\n",
       "    </tr>\n",
       "    <tr>\n",
       "      <th>78</th>\n",
       "      <td>1072</td>\n",
       "      <td>12.829616</td>\n",
       "      <td>9.941487</td>\n",
       "    </tr>\n",
       "    <tr>\n",
       "      <th>115</th>\n",
       "      <td>1072</td>\n",
       "      <td>12.829616</td>\n",
       "      <td>9.941487</td>\n",
       "    </tr>\n",
       "    <tr>\n",
       "      <th>154</th>\n",
       "      <td>1072</td>\n",
       "      <td>12.829616</td>\n",
       "      <td>9.941487</td>\n",
       "    </tr>\n",
       "    <tr>\n",
       "      <th>...</th>\n",
       "      <td>...</td>\n",
       "      <td>...</td>\n",
       "      <td>...</td>\n",
       "    </tr>\n",
       "    <tr>\n",
       "      <th>29494</th>\n",
       "      <td>1016</td>\n",
       "      <td>11.114274</td>\n",
       "      <td>2.570610</td>\n",
       "    </tr>\n",
       "    <tr>\n",
       "      <th>29495</th>\n",
       "      <td>1016</td>\n",
       "      <td>11.114274</td>\n",
       "      <td>2.570610</td>\n",
       "    </tr>\n",
       "    <tr>\n",
       "      <th>29496</th>\n",
       "      <td>1076</td>\n",
       "      <td>12.615734</td>\n",
       "      <td>2.817222</td>\n",
       "    </tr>\n",
       "    <tr>\n",
       "      <th>29497</th>\n",
       "      <td>1075</td>\n",
       "      <td>12.761397</td>\n",
       "      <td>1.202818</td>\n",
       "    </tr>\n",
       "    <tr>\n",
       "      <th>29498</th>\n",
       "      <td>1057</td>\n",
       "      <td>15.120056</td>\n",
       "      <td>0.776503</td>\n",
       "    </tr>\n",
       "  </tbody>\n",
       "</table>\n",
       "<p>869 rows × 3 columns</p>\n",
       "</div>"
      ],
      "text/plain": [
       "      Postcode  T*_depot_0  2_depots\n",
       "0         1072   12.829616  9.941487\n",
       "38        1072   12.829616  9.941487\n",
       "78        1072   12.829616  9.941487\n",
       "115       1072   12.829616  9.941487\n",
       "154       1072   12.829616  9.941487\n",
       "...        ...         ...       ...\n",
       "29494     1016   11.114274  2.570610\n",
       "29495     1016   11.114274  2.570610\n",
       "29496     1076   12.615734  2.817222\n",
       "29497     1075   12.761397  1.202818\n",
       "29498     1057   15.120056  0.776503\n",
       "\n",
       "[869 rows x 3 columns]"
      ]
     },
     "execution_count": 62,
     "metadata": {},
     "output_type": "execute_result"
    }
   ],
   "source": [
    "results_amsterdam[[\"Postcode\",\"T*_depot_0\",\"2_depots\"]]"
   ]
  },
  {
   "cell_type": "code",
   "execution_count": 64,
   "metadata": {},
   "outputs": [],
   "source": [
    "# create function for creating a map \n",
    "def create_map(map_start_location, depot_locations, results, depot_amount):\n",
    "    m = folium.Map(location=map_start_location, zoom_start=13, tiles=\"CartoDB positron\")\n",
    "\n",
    "    for i in range(len(depot_locations)):\n",
    "        if i > depot_amount:\n",
    "            break\n",
    "        folium.Marker(\n",
    "                [depots_locations[i].y, depots_locations[i].x], \n",
    "                popup=\"Depot_{0}\".format(i+1),\n",
    "                icon=folium.Icon(color='cadetblue', icon='solid fa-bicycle', prefix='fa')).add_to(m)\n",
    "    \n",
    "    depot_column_name = \"\"\n",
    "    if depot_amount == 0:  \n",
    "        depot_column_name = \"T*_depot_{0}\".format(depot_amount) \n",
    "    else: \n",
    "        depot_column_name = \"{0}_depots\".format(depot_amount+1)\n",
    "\n",
    "    choropleth = folium.Choropleth(\n",
    "        results, \n",
    "        data=results, \n",
    "        key_on='feature.properties.Postcode', \n",
    "        columns=[\"Postcode\", depot_column_name], \n",
    "        fill_color=\"OrRd\",\n",
    "        fill_opacity = 0.8,\n",
    "        line_opacity = 1,\n",
    "        line_weight=1,\n",
    "        legend_name = \"T* per postalcode area based on {0}\".format(depot_column_name),\n",
    "        name=\"T* of {0} per Postalcode area\".format(depot_column_name)).add_to(m)\n",
    "\n",
    "    choropleth.geojson.add_child(\n",
    "        folium.features.GeoJsonTooltip(fields=['Postcode', depot_column_name], labels=True)\n",
    "    )\n",
    "\n",
    "    folium.LayerControl().add_to(m)\n",
    "    # m.save('map.html')\n",
    "    return m"
   ]
  },
  {
   "cell_type": "markdown",
   "metadata": {},
   "source": [
    "### Amsterdam results with 1 depot\n",
    "Current situation 1 depot at Cycloon Amsterdam "
   ]
  },
  {
   "cell_type": "code",
   "execution_count": null,
   "metadata": {},
   "outputs": [],
   "source": [
    "create_map(lat_long_amsterdam, depots_locations, results_amsterdam, 0)"
   ]
  },
  {
   "cell_type": "markdown",
   "metadata": {},
   "source": [
    "### Amsterdam results with 2 depots\n",
    "One depot at Cycloon, Amsterdam and Kinkerstraat, Amsterdam"
   ]
  },
  {
   "cell_type": "code",
   "execution_count": null,
   "metadata": {},
   "outputs": [],
   "source": [
    "create_map(lat_long_amsterdam, depots_locations, results_amsterdam, 1)"
   ]
  }
 ],
 "metadata": {
  "interpreter": {
   "hash": "8ee91b7e8a4c290a9eda45d7e695335377bd39dd7be23aaeef8943b431de685e"
  },
  "kernelspec": {
   "display_name": "Python 3.10.4 ('lastmile')",
   "language": "python",
   "name": "python3"
  },
  "language_info": {
   "codemirror_mode": {
    "name": "ipython",
    "version": 3
   },
   "file_extension": ".py",
   "mimetype": "text/x-python",
   "name": "python",
   "nbconvert_exporter": "python",
   "pygments_lexer": "ipython3",
   "version": "3.10.4"
  },
  "orig_nbformat": 4
 },
 "nbformat": 4,
 "nbformat_minor": 2
}
